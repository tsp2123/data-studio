{
 "cells": [
  {
   "cell_type": "code",
   "execution_count": 1,
   "metadata": {},
   "outputs": [],
   "source": [
    "import pandas as pd\n",
    "import matplotlib.pyplot as plt\n",
    "import re\n",
    "\n",
    "%matplotlib inline"
   ]
  },
  {
   "cell_type": "code",
   "execution_count": 4,
   "metadata": {},
   "outputs": [],
   "source": [
    "November = pd.read_csv('November_Cleaned.csv')"
   ]
  },
  {
   "cell_type": "code",
   "execution_count": 5,
   "metadata": {},
   "outputs": [
    {
     "name": "stderr",
     "output_type": "stream",
     "text": [
      "/Users/TekendraMBP/.pyenv/versions/3.6.4/lib/python3.6/site-packages/ipykernel_launcher.py:1: UserWarning: This pattern has match groups. To actually get the groups, use str.extract.\n",
      "  \"\"\"Entry point for launching an IPython kernel.\n"
     ]
    }
   ],
   "source": [
    "November[November['Pickup_Time'].str.contains(r'(2017-11-23).*')].to_csv('Nov_Holiday_1.csv')"
   ]
  },
  {
   "cell_type": "code",
   "execution_count": 6,
   "metadata": {},
   "outputs": [
    {
     "name": "stderr",
     "output_type": "stream",
     "text": [
      "/Users/TekendraMBP/.pyenv/versions/3.6.4/lib/python3.6/site-packages/ipykernel_launcher.py:1: UserWarning: This pattern has match groups. To actually get the groups, use str.extract.\n",
      "  \"\"\"Entry point for launching an IPython kernel.\n"
     ]
    }
   ],
   "source": [
    "November[November['Pickup_Time'].str.contains(r'(2017-11-22).*')].to_csv('Nov_Holiday_2.csv')"
   ]
  },
  {
   "cell_type": "code",
   "execution_count": 7,
   "metadata": {},
   "outputs": [
    {
     "name": "stderr",
     "output_type": "stream",
     "text": [
      "/Users/TekendraMBP/.pyenv/versions/3.6.4/lib/python3.6/site-packages/ipykernel_launcher.py:1: UserWarning: This pattern has match groups. To actually get the groups, use str.extract.\n",
      "  \"\"\"Entry point for launching an IPython kernel.\n"
     ]
    }
   ],
   "source": [
    "November[November['Pickup_Time'].str.contains(r'(2017-11-24).*')].to_csv('Nov_Holiday_3.csv')"
   ]
  },
  {
   "cell_type": "code",
   "execution_count": 8,
   "metadata": {},
   "outputs": [
    {
     "name": "stderr",
     "output_type": "stream",
     "text": [
      "/Users/TekendraMBP/.pyenv/versions/3.6.4/lib/python3.6/site-packages/ipykernel_launcher.py:1: UserWarning: This pattern has match groups. To actually get the groups, use str.extract.\n",
      "  \"\"\"Entry point for launching an IPython kernel.\n"
     ]
    }
   ],
   "source": [
    "November[November['Pickup_Time'].str.contains(r'(2017-11-25).*')].to_csv('Nov_Holiday_4.csv')"
   ]
  },
  {
   "cell_type": "code",
   "execution_count": 9,
   "metadata": {},
   "outputs": [
    {
     "name": "stderr",
     "output_type": "stream",
     "text": [
      "/Users/TekendraMBP/.pyenv/versions/3.6.4/lib/python3.6/site-packages/ipykernel_launcher.py:1: UserWarning: This pattern has match groups. To actually get the groups, use str.extract.\n",
      "  \"\"\"Entry point for launching an IPython kernel.\n"
     ]
    }
   ],
   "source": [
    "November[November['Pickup_Time'].str.contains(r'(2017-11-26).*')].to_csv('Nov_Holiday_5.csv')"
   ]
  },
  {
   "cell_type": "code",
   "execution_count": 10,
   "metadata": {},
   "outputs": [],
   "source": [
    "November_1 = pd.read_csv('Nov_Holiday_1.csv')\n",
    "November_2 = pd.read_csv('Nov_Holiday_2.csv')\n",
    "November_3 = pd.read_csv('Nov_Holiday_3.csv')\n",
    "November_4 = pd.read_csv('Nov_Holiday_4.csv')\n",
    "November_5 = pd.read_csv('Nov_Holiday_5.csv')\n"
   ]
  },
  {
   "cell_type": "code",
   "execution_count": 11,
   "metadata": {},
   "outputs": [],
   "source": [
    "frames = [November_1 , November_2 , November_3 , November_4 , November_5]"
   ]
  },
  {
   "cell_type": "code",
   "execution_count": 22,
   "metadata": {},
   "outputs": [],
   "source": [
    "November_Holidays_Master = pd.concat(frames)"
   ]
  },
  {
   "cell_type": "code",
   "execution_count": 23,
   "metadata": {},
   "outputs": [],
   "source": [
    "November_Holidays_Master.drop(columns='Unnamed: 0' , inplace=True)"
   ]
  },
  {
   "cell_type": "code",
   "execution_count": 27,
   "metadata": {},
   "outputs": [],
   "source": [
    "def tip_percentage_calculator(row):\n",
    "    try:\n",
    "        return row['tip_amount'] / row['fare_amount'] * 100\n",
    "    except:\n",
    "        return 0\n",
    "    "
   ]
  },
  {
   "cell_type": "code",
   "execution_count": 28,
   "metadata": {},
   "outputs": [],
   "source": [
    "November_Holidays_Master['Percentage_Tip'] = November_Holidays_Master.apply(tip_percentage_calculator , axis=1)"
   ]
  },
  {
   "cell_type": "code",
   "execution_count": 36,
   "metadata": {},
   "outputs": [],
   "source": [
    "November_Holidays_Master = November_Holidays_Master[November_Holidays_Master['trip_distance'] > 1]"
   ]
  },
  {
   "cell_type": "code",
   "execution_count": 37,
   "metadata": {},
   "outputs": [
    {
     "data": {
      "text/plain": [
       "Pickup_Borough\n",
       "Bronx            13.596304\n",
       "Brooklyn         19.933163\n",
       "EWR              13.411765\n",
       "Manhattan        20.478388\n",
       "Queens           20.635473\n",
       "Staten Island    24.536873\n",
       "Name: Percentage_Tip, dtype: float64"
      ]
     },
     "execution_count": 37,
     "metadata": {},
     "output_type": "execute_result"
    }
   ],
   "source": [
    "November_Holidays_Master.groupby('Pickup_Borough').Percentage_Tip.mean()"
   ]
  },
  {
   "cell_type": "code",
   "execution_count": 38,
   "metadata": {},
   "outputs": [
    {
     "data": {
      "text/html": [
       "<div>\n",
       "<style scoped>\n",
       "    .dataframe tbody tr th:only-of-type {\n",
       "        vertical-align: middle;\n",
       "    }\n",
       "\n",
       "    .dataframe tbody tr th {\n",
       "        vertical-align: top;\n",
       "    }\n",
       "\n",
       "    .dataframe thead th {\n",
       "        text-align: right;\n",
       "    }\n",
       "</style>\n",
       "<table border=\"1\" class=\"dataframe\">\n",
       "  <thead>\n",
       "    <tr style=\"text-align: right;\">\n",
       "      <th></th>\n",
       "      <th>VendorID</th>\n",
       "      <th>Pickup_Time</th>\n",
       "      <th>DropOff_Time</th>\n",
       "      <th>passenger_count</th>\n",
       "      <th>trip_distance</th>\n",
       "      <th>RatecodeID</th>\n",
       "      <th>store_and_fwd_flag</th>\n",
       "      <th>payment_type</th>\n",
       "      <th>fare_amount</th>\n",
       "      <th>extra</th>\n",
       "      <th>...</th>\n",
       "      <th>total_amount</th>\n",
       "      <th>Pickup_Location_ID</th>\n",
       "      <th>Pickup_Borough</th>\n",
       "      <th>Pickup_Zone</th>\n",
       "      <th>Pickup_Service_Zone</th>\n",
       "      <th>DropOff_Location_ID</th>\n",
       "      <th>DropOff_Borough</th>\n",
       "      <th>DropOff_Zone</th>\n",
       "      <th>DropOff_Service_Zone</th>\n",
       "      <th>Percentage_Tip</th>\n",
       "    </tr>\n",
       "  </thead>\n",
       "  <tbody>\n",
       "    <tr>\n",
       "      <th>59695</th>\n",
       "      <td>1</td>\n",
       "      <td>2017-11-23 08:29:38</td>\n",
       "      <td>2017-11-23 08:34:54</td>\n",
       "      <td>4</td>\n",
       "      <td>1.7</td>\n",
       "      <td>standard_rate</td>\n",
       "      <td>N</td>\n",
       "      <td>credit_card</td>\n",
       "      <td>7.0</td>\n",
       "      <td>0.0</td>\n",
       "      <td>...</td>\n",
       "      <td>7.8</td>\n",
       "      <td>1</td>\n",
       "      <td>EWR</td>\n",
       "      <td>Newark Airport</td>\n",
       "      <td>EWR</td>\n",
       "      <td>1</td>\n",
       "      <td>EWR</td>\n",
       "      <td>Newark Airport</td>\n",
       "      <td>EWR</td>\n",
       "      <td>0.000000</td>\n",
       "    </tr>\n",
       "    <tr>\n",
       "      <th>177735</th>\n",
       "      <td>1</td>\n",
       "      <td>2017-11-22 05:20:11</td>\n",
       "      <td>2017-11-22 05:49:58</td>\n",
       "      <td>1</td>\n",
       "      <td>14.8</td>\n",
       "      <td>standard_rate</td>\n",
       "      <td>N</td>\n",
       "      <td>credit_card</td>\n",
       "      <td>42.5</td>\n",
       "      <td>0.5</td>\n",
       "      <td>...</td>\n",
       "      <td>68.4</td>\n",
       "      <td>1</td>\n",
       "      <td>EWR</td>\n",
       "      <td>Newark Airport</td>\n",
       "      <td>EWR</td>\n",
       "      <td>148</td>\n",
       "      <td>Manhattan</td>\n",
       "      <td>Lower East Side</td>\n",
       "      <td>Yellow Zone</td>\n",
       "      <td>26.823529</td>\n",
       "    </tr>\n",
       "  </tbody>\n",
       "</table>\n",
       "<p>2 rows × 24 columns</p>\n",
       "</div>"
      ],
      "text/plain": [
       "        VendorID          Pickup_Time         DropOff_Time  passenger_count  \\\n",
       "59695          1  2017-11-23 08:29:38  2017-11-23 08:34:54                4   \n",
       "177735         1  2017-11-22 05:20:11  2017-11-22 05:49:58                1   \n",
       "\n",
       "        trip_distance     RatecodeID store_and_fwd_flag payment_type  \\\n",
       "59695             1.7  standard_rate                  N  credit_card   \n",
       "177735           14.8  standard_rate                  N  credit_card   \n",
       "\n",
       "        fare_amount  extra       ...        total_amount  Pickup_Location_ID  \\\n",
       "59695           7.0    0.0       ...                 7.8                   1   \n",
       "177735         42.5    0.5       ...                68.4                   1   \n",
       "\n",
       "        Pickup_Borough     Pickup_Zone  Pickup_Service_Zone  \\\n",
       "59695              EWR  Newark Airport                  EWR   \n",
       "177735             EWR  Newark Airport                  EWR   \n",
       "\n",
       "        DropOff_Location_ID DropOff_Borough     DropOff_Zone  \\\n",
       "59695                     1             EWR   Newark Airport   \n",
       "177735                  148       Manhattan  Lower East Side   \n",
       "\n",
       "       DropOff_Service_Zone  Percentage_Tip  \n",
       "59695                   EWR        0.000000  \n",
       "177735          Yellow Zone       26.823529  \n",
       "\n",
       "[2 rows x 24 columns]"
      ]
     },
     "execution_count": 38,
     "metadata": {},
     "output_type": "execute_result"
    }
   ],
   "source": [
    "November_Holidays_Master[November_Holidays_Master['Pickup_Borough'] == 'EWR']"
   ]
  },
  {
   "cell_type": "markdown",
   "metadata": {},
   "source": [
    "Holiday Tips November\n",
    "\n",
    "Pickup_Borough\n",
    "\n",
    "Bronx            13.596304\n",
    "\n",
    "Brooklyn         19.933163\n",
    "\n",
    "EWR              13.411765\n",
    "\n",
    "Manhattan        20.478388\n",
    "\n",
    "Queens           20.635473\n",
    "\n",
    "Staten Island    24.536873\n",
    "\n",
    "\n",
    "January Tips\n",
    "\n",
    "\n",
    "Pickup_Borough\n",
    "\n",
    "Bronx            17.921727\n",
    "\n",
    "Brooklyn         21.529412\n",
    "\n",
    "EWR              21.627907\n",
    "\n",
    "Manhattan        21.684211\n",
    "\n",
    "Queens           22.222222\n",
    "\n",
    "Staten Island    21.561905\n"
   ]
  },
  {
   "cell_type": "code",
   "execution_count": 40,
   "metadata": {},
   "outputs": [],
   "source": [
    "November_Holidays_Master.to_csv('November_Holidays_Master.csv')"
   ]
  },
  {
   "cell_type": "code",
   "execution_count": 68,
   "metadata": {},
   "outputs": [
    {
     "data": {
      "text/plain": [
       "Text(0,0.5,'Average Tip Percentage')"
      ]
     },
     "execution_count": 68,
     "metadata": {},
     "output_type": "execute_result"
    },
    {
     "data": {
      "image/png": "[encoded data removed]",
      "text/plain": [
       "<Figure size 432x288 with 1 Axes>"
      ]
     },
     "metadata": {},
     "output_type": "display_data"
    }
   ],
   "source": [
    "January = pd.read_csv('taxi_january_standard_rate.csv')\n",
    "\n",
    "plt.style.use('fast')\n",
    "\n",
    "\n",
    "ax = January.groupby('Pickup_Borough').Percentage_Tip.median().plot(kind='bar')\n",
    "\n",
    "ax.set_title('How Much do Boroughs trip during the non-Holidays?' , pad=40)\n",
    "\n",
    "\n",
    "ax.set_yticks([0 , 5 , 10 , 15 , 25])\n",
    "\n",
    "\n",
    "ax.set_ylabel('Average Tip Percentage')"
   ]
  },
  {
   "cell_type": "code",
   "execution_count": 66,
   "metadata": {},
   "outputs": [
    {
     "data": {
      "text/plain": [
       "Text(0,0.5,'Average Tip Percentage')"
      ]
     },
     "execution_count": 66,
     "metadata": {},
     "output_type": "execute_result"
    },
    {
     "data": {
      "image/png": "[encoded data removed]",
      "text/plain": [
       "<Figure size 432x288 with 1 Axes>"
      ]
     },
     "metadata": {},
     "output_type": "display_data"
    }
   ],
   "source": [
    "plt.style.use('fast')\n",
    "\n",
    "\n",
    "ax = November_Holidays_Master.groupby('Pickup_Borough').Percentage_Tip.median().plot(kind='bar')\n",
    "\n",
    "ax.set_title('How Much do Boroughs trip during the holidays?' , pad=40)\n",
    "\n",
    "\n",
    "ax.set_yticks([0 , 5, 10 , 15 , 25])\n",
    "\n",
    "\n",
    "ax.set_ylabel('Average Tip Percentage')"
   ]
  },
  {
   "cell_type": "code",
   "execution_count": 43,
   "metadata": {},
   "outputs": [],
   "source": []
  },
  {
   "cell_type": "code",
   "execution_count": 67,
   "metadata": {},
   "outputs": [
    {
     "data": {
      "text/plain": [
       "Text(0,0.5,'Average Tip Percentage')"
      ]
     },
     "execution_count": 67,
     "metadata": {},
     "output_type": "execute_result"
    },
    {
     "data": {
      "image/png": "[encoded data removed]",
      "text/plain": [
       "<Figure size 432x288 with 1 Axes>"
      ]
     },
     "metadata": {},
     "output_type": "display_data"
    }
   ],
   "source": []
  },
  {
   "cell_type": "code",
   "execution_count": 59,
   "metadata": {},
   "outputs": [
    {
     "name": "stdout",
     "output_type": "stream",
     "text": [
      "This is how much people trip during the non-holidays\n"
     ]
    },
    {
     "data": {
      "text/plain": [
       "Pickup_Borough\n",
       "Bronx            17.921727\n",
       "Brooklyn         21.529412\n",
       "EWR              21.627907\n",
       "Manhattan        21.684211\n",
       "Queens           22.222222\n",
       "Staten Island    21.561905\n",
       "Name: Percentage_Tip, dtype: float64"
      ]
     },
     "execution_count": 59,
     "metadata": {},
     "output_type": "execute_result"
    }
   ],
   "source": [
    "print('This is how much people trip during the non-holidays')\n",
    "January.groupby('Pickup_Borough').Percentage_Tip.median()"
   ]
  },
  {
   "cell_type": "code",
   "execution_count": 60,
   "metadata": {},
   "outputs": [
    {
     "name": "stdout",
     "output_type": "stream",
     "text": [
      "this is how much people tip during the holidays\n"
     ]
    },
    {
     "data": {
      "text/plain": [
       "Pickup_Borough\n",
       "Bronx             7.692308\n",
       "Brooklyn         21.428571\n",
       "EWR              13.411765\n",
       "Manhattan        21.666667\n",
       "Queens           21.019608\n",
       "Staten Island    24.536873\n",
       "Name: Percentage_Tip, dtype: float64"
      ]
     },
     "execution_count": 60,
     "metadata": {},
     "output_type": "execute_result"
    }
   ],
   "source": [
    "print('this is how much people tip during the holidays')\n",
    "\n",
    "November_Holidays_Master.groupby('Pickup_Borough').Percentage_Tip.median()"
   ]
  },
  {
   "cell_type": "code",
   "execution_count": 64,
   "metadata": {},
   "outputs": [
    {
     "data": {
      "text/plain": [
       "Pickup_Borough\n",
       "Bronx             3.48\n",
       "Brooklyn          3.30\n",
       "EWR               8.25\n",
       "Manhattan         2.10\n",
       "Queens            9.78\n",
       "Staten Island    11.47\n",
       "Name: trip_distance, dtype: float64"
      ]
     },
     "execution_count": 64,
     "metadata": {},
     "output_type": "execute_result"
    }
   ],
   "source": [
    "November_Holidays_Master.groupby('Pickup_Borough').trip_distance.median()"
   ]
  },
  {
   "cell_type": "code",
   "execution_count": 65,
   "metadata": {},
   "outputs": [
    {
     "data": {
      "text/plain": [
       "Pickup_Borough\n",
       "Bronx             3.39\n",
       "Brooklyn          3.23\n",
       "EWR               3.86\n",
       "Manhattan         2.08\n",
       "Queens           11.50\n",
       "Staten Island     2.36\n",
       "Name: trip_distance, dtype: float64"
      ]
     },
     "execution_count": 65,
     "metadata": {},
     "output_type": "execute_result"
    }
   ],
   "source": [
    "January.groupby('Pickup_Borough').trip_distance.median()"
   ]
  },
  {
   "cell_type": "code",
   "execution_count": null,
   "metadata": {},
   "outputs": [],
   "source": []
  }
 ],
 "metadata": {
  "kernelspec": {
   "display_name": "Python 3",
   "language": "python",
   "name": "python3"
  },
  "language_info": {
   "codemirror_mode": {
    "name": "ipython",
    "version": 3
   },
   "file_extension": ".py",
   "mimetype": "text/x-python",
   "name": "python",
   "nbconvert_exporter": "python",
   "pygments_lexer": "ipython3",
   "version": "3.6.4"
  }
 },
 "nbformat": 4,
 "nbformat_minor": 2
}
